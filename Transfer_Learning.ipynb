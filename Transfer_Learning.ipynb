{
 "cells": [
  {
   "cell_type": "markdown",
   "metadata": {
    "colab_type": "text",
    "id": "B6njr7H6m-JM"
   },
   "source": [
    "# Self-Driving Car Engineer Nanodegree\n",
    "\n",
    "## Deep Learning\n",
    "\n",
    "## Project: Build a Traffic Sign Recognition Classifier With Transfer Learning"
   ]
  },
  {
   "cell_type": "markdown",
   "metadata": {
    "colab_type": "text",
    "id": "zA9ko_R3m-JQ"
   },
   "source": [
    "## Step 0: Load The Data"
   ]
  },
  {
   "cell_type": "markdown",
   "metadata": {},
   "source": [
    "Use this link to download the data used for this project [Link to Data](http://benchmark.ini.rub.de/?section=gtsrb&subsection=dataset)"
   ]
  },
  {
   "cell_type": "code",
   "execution_count": 4,
   "metadata": {
    "colab": {
     "base_uri": "https://localhost:8080/",
     "height": 35
    },
    "colab_type": "code",
    "id": "CzhovF49m-JT",
    "outputId": "b61ec343-c18c-4841-c1b9-264489230c72"
   },
   "outputs": [],
   "source": [
    "try:\n",
    "  # Use the %tensorflow_version magic if in colab.\n",
    "  %tensorflow_version 2.x\n",
    "except Exception:\n",
    "    pass\n",
    "# Load pickled data\n",
    "import pickle\n",
    "import numpy as np\n",
    "import cv2\n",
    "import csv\n",
    "import tensorflow as tf\n",
    "import glob\n",
    "import matplotlib.pyplot as plt\n",
    "import tensorflow_hub as hub\n",
    "\n",
    "\n",
    "training_file = 'traffic-signs-data/train.p'\n",
    "validation_file = 'traffic-signs-data/valid.p'\n",
    "testing_file = 'traffic-signs-data/test.p'\n",
    "\n",
    "with open(training_file, mode='rb') as f:\n",
    "    train = pickle.load(f)\n",
    "with open(validation_file, mode='rb') as f:\n",
    "    valid = pickle.load(f)\n",
    "with open(testing_file, mode='rb') as f:\n",
    "    test = pickle.load(f)\n",
    "    \n",
    "X_train, y_train = train['features'], train['labels']\n",
    "X_valid, y_valid = valid['features'], valid['labels']\n",
    "X_test, y_test = test['features'], test['labels']"
   ]
  },
  {
   "cell_type": "code",
   "execution_count": 5,
   "metadata": {
    "colab": {},
    "colab_type": "code",
    "id": "7NVAwtmIm-JZ"
   },
   "outputs": [],
   "source": [
    "train_dataset = tf.data.Dataset.from_tensor_slices((X_train, y_train))\n",
    "validation_set = tf.data.Dataset.from_tensor_slices((X_valid, y_valid))\n",
    "test_set = tf.data.Dataset.from_tensor_slices((X_test, y_test))"
   ]
  },
  {
   "cell_type": "code",
   "execution_count": 6,
   "metadata": {
    "colab": {},
    "colab_type": "code",
    "id": "XOaZDGi7uxZM"
   },
   "outputs": [],
   "source": [
    "test_set = test_set.map(lambda image, label: (tf.image.resize(image, (160, 160)), label))\n",
    "validation_set = validation_set.map(lambda image, label: (tf.image.resize(image, (160, 160)), label))\n",
    "train_dataset = train_dataset.map(lambda image, label: (tf.image.resize(image, (160, 160)), label))"
   ]
  },
  {
   "cell_type": "code",
   "execution_count": 7,
   "metadata": {
    "colab": {
     "base_uri": "https://localhost:8080/",
     "height": 35
    },
    "colab_type": "code",
    "id": "iwqqqd6Jwb21",
    "outputId": "67a91e6f-014b-40d4-a2e1-2883bec1fe21"
   },
   "outputs": [
    {
     "name": "stdout",
     "output_type": "stream",
     "text": [
      "<MapDataset shapes: ((160, 160, 3), ()), types: (tf.float32, tf.uint8)>\n"
     ]
    }
   ],
   "source": [
    "print(validation_set)"
   ]
  },
  {
   "cell_type": "markdown",
   "metadata": {
    "colab_type": "text",
    "id": "qytkhSelm-Jg"
   },
   "source": [
    "---\n",
    "\n",
    "## Step 1: Dataset Summary & Exploration\n"
   ]
  },
  {
   "cell_type": "markdown",
   "metadata": {
    "colab_type": "text",
    "id": "wgP_Iugkm-Ji"
   },
   "source": [
    "### Provide a Basic Summary of the Data Set Using Python, Numpy and/or Pandas"
   ]
  },
  {
   "cell_type": "markdown",
   "metadata": {
    "colab_type": "text",
    "id": "T2RaN9pEm-Jj"
   },
   "source": [
    "### Include an exploratory visualization of the dataset"
   ]
  },
  {
   "cell_type": "code",
   "execution_count": 8,
   "metadata": {
    "colab": {
     "base_uri": "https://localhost:8080/",
     "height": 87
    },
    "colab_type": "code",
    "id": "PUIqcvbam-Jl",
    "outputId": "3bab55dc-018a-4f70-a233-74235beafe4f"
   },
   "outputs": [
    {
     "name": "stdout",
     "output_type": "stream",
     "text": [
      "Number of training examples = 34799\n",
      "Number of testing examples = 12630\n",
      "Image data shape = (32, 32)\n",
      "Number of classes = 43\n"
     ]
    }
   ],
   "source": [
    "n_train = X_train.shape[0]\n",
    "n_validation = X_valid.shape[0]\n",
    "n_test = X_test.shape[0]\n",
    "image_shape =  (X_test.shape[1],  X_test.shape[1])\n",
    "n_classes = max(test['labels']) + 1\n",
    "\n",
    "print(\"Number of training examples =\", n_train)\n",
    "print(\"Number of testing examples =\", n_test)\n",
    "print(\"Image data shape =\", image_shape)\n",
    "print(\"Number of classes =\", n_classes)"
   ]
  },
  {
   "cell_type": "code",
   "execution_count": 10,
   "metadata": {
    "colab": {},
    "colab_type": "code",
    "id": "GtnRiovam-Js"
   },
   "outputs": [],
   "source": [
    "class_names = []\n",
    "with open('signnames.csv','rt')as f:\n",
    "    data = csv.reader(f)\n",
    "    for row in data:\n",
    "        sign_name = list(row)[1]\n",
    "        if(sign_name != 'SignName'):\n",
    "            class_names.append(sign_name)"
   ]
  },
  {
   "cell_type": "code",
   "execution_count": 11,
   "metadata": {
    "colab": {
     "base_uri": "https://localhost:8080/",
     "height": 323
    },
    "colab_type": "code",
    "id": "AhXl_3jum-Jx",
    "outputId": "2f528a4b-52c3-499e-ebdf-7bde25d3a070",
    "scrolled": true
   },
   "outputs": [
    {
     "data": {
      "image/png": "[encoded data removed]",
      "text/plain": [
       "<Figure size 480x320 with 1 Axes>"
      ]
     },
     "metadata": {},
     "output_type": "display_data"
    }
   ],
   "source": [
    "def print_distribution(y_train, y_test, y_valid):\n",
    "    distribution = {}\n",
    "    sign_class = []\n",
    "    sign_num = [[],[],[]]\n",
    "    \n",
    "    for image in y_train:\n",
    "        if(distribution.get(class_names[image]) != None):\n",
    "            distribution[class_names[image]][0] = distribution[class_names[image]][0] + 1\n",
    "        else:\n",
    "            distribution[class_names[image]] = [0,0,0]\n",
    "            \n",
    "    for image in y_test:\n",
    "        if(distribution.get(class_names[image]) != None):\n",
    "            distribution[class_names[image]][1] = distribution[class_names[image]][1] + 1\n",
    "        else:\n",
    "            distribution[class_names[image]] = [0,0,0]\n",
    "    \n",
    "    for image in y_valid:\n",
    "        if(distribution.get(class_names[image]) != None):\n",
    "            distribution[class_names[image]][2] = distribution[class_names[image]][2] + 1\n",
    "        else:\n",
    "            distribution[class_names[image]] = [0,0,0]\n",
    "            \n",
    "    for x in distribution:\n",
    "        sign_class.append(x)\n",
    "        sign_num[0].append(distribution[x][0])\n",
    "        sign_num[1].append(distribution[x][1])\n",
    "        sign_num[2].append(distribution[x][2])\n",
    "        \n",
    "    n_classes = range(len(sign_class))\n",
    "    width = 1\n",
    "    plt.figure(num=None, figsize=(6, 4), dpi=80, facecolor='w', edgecolor='k')\n",
    "    p1 = plt.bar(n_classes, sign_num[0], width, color='r')\n",
    "    p2 = plt.bar(n_classes, sign_num[1], width, bottom=sign_num[0], color='g')\n",
    "    p3 = plt.bar(n_classes, sign_num[2], width, \n",
    "             bottom=np.array(sign_num[0])+np.array(sign_num[1]), color='b')\n",
    "    plt.ylabel('Number of Examples')\n",
    "    plt.xlabel('Traffic Sign Class')\n",
    "    plt.title('Distribution of Examples in Each Data Set')\n",
    "    plt.ylim([0,4500])\n",
    "    plt.legend((p1[0], p2[0], p3[0]), ('Training', 'Testing', 'Validation'), loc='upper center')\n",
    "    plt.show()\n",
    "    \n",
    "print_distribution(y_train, y_test, y_valid)"
   ]
  },
  {
   "cell_type": "markdown",
   "metadata": {
    "colab_type": "text",
    "id": "iQ6k8Glrm-J3"
   },
   "source": [
    "### Pre-process the Data Set (normalization, grayscale, etc.)"
   ]
  },
  {
   "cell_type": "markdown",
   "metadata": {
    "colab_type": "text",
    "id": "7f7yzeoUm-J-"
   },
   "source": [
    "### Model Architecture"
   ]
  },
  {
   "cell_type": "code",
   "execution_count": 12,
   "metadata": {
    "colab": {},
    "colab_type": "code",
    "id": "p4PoSLr_m-KA"
   },
   "outputs": [],
   "source": [
    "URL = \"https://tfhub.dev/google/imagenet/mobilenet_v1_050_160/classification/4\"\n",
    "feature_extractor = hub.KerasLayer(URL, input_shape=(160, 160, 3))\n",
    "\n",
    "feature_extractor.trainable = True\n",
    "model = tf.keras.Sequential([feature_extractor,\n",
    "                             tf.keras.layers.Dropout(0.5),\n",
    "                             tf.keras.layers.Dense(n_classes, activation='softmax')])"
   ]
  },
  {
   "cell_type": "code",
   "execution_count": 13,
   "metadata": {
    "colab": {},
    "colab_type": "code",
    "id": "2Pm6B7oD0Opl"
   },
   "outputs": [],
   "source": [
    "IMAGE_RES = (160, 160)\n",
    "\n",
    "def format_image(image, label):\n",
    "    image = np.array([image]/255.0, dtype=np.float64)\n",
    "    return image , label\n",
    "\n",
    "BATCH_SIZE = 32\n",
    "train_batches = train_dataset.shuffle(n_train//4).batch(BATCH_SIZE).prefetch(1)\n",
    "validation_batches = validation_set.shuffle(n_validation//4).batch(BATCH_SIZE).prefetch(1)\n",
    "test_batches = test_set.shuffle(n_test//4).batch(BATCH_SIZE).prefetch(1)"
   ]
  },
  {
   "cell_type": "markdown",
   "metadata": {
    "colab_type": "text",
    "id": "y8DtjlAGm-KF"
   },
   "source": [
    "## Train, Validate and Test the Model"
   ]
  },
  {
   "cell_type": "markdown",
   "metadata": {
    "colab_type": "text",
    "id": "mwaIb4oSm-KH"
   },
   "source": [
    "A validation set can be used to assess how well the model is performing. A low accuracy on the training and validation\n",
    "sets imply underfitting. A high accuracy on the training set but low accuracy on the validation set implies overfitting."
   ]
  },
  {
   "cell_type": "code",
   "execution_count": null,
   "metadata": {
    "colab": {
     "base_uri": "https://localhost:8080/",
     "height": 381
    },
    "colab_type": "code",
    "id": "me7urgmkm-KI",
    "outputId": "be00db23-0051-4287-8e44-c635783cf73d"
   },
   "outputs": [],
   "source": [
    "model.compile(optimizer='adam',\n",
    "              loss='sparse_categorical_crossentropy',\n",
    "              metrics=['accuracy'])\n",
    "EPOCHS = 10\n",
    "history = model.fit(\n",
    "    x = train_batches,\n",
    "    epochs=EPOCHS,\n",
    "    validation_data=validation_batches\n",
    ")"
   ]
  },
  {
   "cell_type": "code",
   "execution_count": null,
   "metadata": {
    "colab": {
     "base_uri": "https://localhost:8080/",
     "height": 499
    },
    "colab_type": "code",
    "id": "eYsyr7wHm-KQ",
    "outputId": "3ba65db4-ab0c-482a-94a1-7440a7fdb9c3"
   },
   "outputs": [],
   "source": [
    "loss = history.history['loss']\n",
    "val_loss = history.history['val_loss']\n",
    "\n",
    "epochs_range = range(EPOCHS)\n",
    "\n",
    "plt.figure(figsize=(8, 8))\n",
    "plt.subplot(1, 2, 2)\n",
    "plt.plot(epochs_range, loss, label='Training Loss')\n",
    "plt.plot(epochs_range, val_loss, label='Validation Loss')\n",
    "plt.legend(loc='upper right')\n",
    "plt.title('Training and Validation Loss')\n",
    "plt.savefig('/loss.png')\n",
    "plt.show()"
   ]
  },
  {
   "cell_type": "code",
   "execution_count": null,
   "metadata": {
    "colab": {
     "base_uri": "https://localhost:8080/",
     "height": 225
    },
    "colab_type": "code",
    "id": "D3ScRFXOm-KU",
    "outputId": "5dfdac1c-a77d-4d3d-f072-1e4689cd5a83"
   },
   "outputs": [],
   "source": [
    "model.summary()"
   ]
  },
  {
   "cell_type": "markdown",
   "metadata": {
    "colab_type": "text",
    "id": "shx5fmEEm-KY"
   },
   "source": [
    "---\n",
    "\n",
    "## Step 3: Test a Model on New Images"
   ]
  },
  {
   "cell_type": "markdown",
   "metadata": {
    "colab_type": "text",
    "id": "wdlBnnICm-KZ"
   },
   "source": [
    "### Load and Output the Images and Predict the Sign Type for Each Image"
   ]
  },
  {
   "cell_type": "code",
   "execution_count": null,
   "metadata": {
    "colab": {
     "base_uri": "https://localhost:8080/",
     "height": 1000
    },
    "colab_type": "code",
    "id": "QtLU-9ZFm-Ka",
    "outputId": "a032b2b9-04d6-467e-fa1b-aa306d8edf79"
   },
   "outputs": [],
   "source": [
    "imgs = glob.glob('test_images/*.jpg')\n",
    "imgs.extend(glob.glob('test_images/*.png'))\n",
    "\n",
    "for img in imgs:\n",
    "    cv_image = cv2.imread(img)\n",
    "    image = cv_image[...,::-1]\n",
    "    image = cv2.resize(image, (160,160), interpolation = cv2.INTER_AREA)\n",
    "    arr = np.array([image], dtype=np.float64)\n",
    "    plt.imshow(image, cmap='binary')\n",
    "    print(class_names[model.predict(arr).argmax()])\n",
    "    plt.show()"
   ]
  },
  {
   "cell_type": "markdown",
   "metadata": {
    "colab_type": "text",
    "id": "5oX5He3nm-Ki"
   },
   "source": [
    "### Analyze Performance"
   ]
  },
  {
   "cell_type": "code",
   "execution_count": null,
   "metadata": {
    "colab": {
     "base_uri": "https://localhost:8080/",
     "height": 35
    },
    "colab_type": "code",
    "id": "y0suHKPsm-Kk",
    "outputId": "dd48955d-5160-4cd6-f310-2a3c8b72a95e",
    "scrolled": true
   },
   "outputs": [],
   "source": [
    "test_loss, test_accuracy = model.evaluate(test_batches)"
   ]
  },
  {
   "cell_type": "markdown",
   "metadata": {
    "colab_type": "text",
    "id": "KySeAcUkm-Ks"
   },
   "source": [
    "### Output Top 5 Softmax Probabilities For Each Image Found on the Web"
   ]
  },
  {
   "cell_type": "code",
   "execution_count": null,
   "metadata": {
    "colab": {},
    "colab_type": "code",
    "id": "LBKgfj2-m-Ku"
   },
   "outputs": [],
   "source": [
    "def print_class_name(array, values):\n",
    "    print(values)\n",
    "    for i, elem in enumerate(array):\n",
    "        print(i+1, class_names[elem], ' ', end=\"\", flush=True)\n",
    "    print()"
   ]
  },
  {
   "cell_type": "code",
   "execution_count": null,
   "metadata": {
    "colab": {
     "base_uri": "https://localhost:8080/",
     "height": 1000
    },
    "colab_type": "code",
    "id": "35o3FYdum-Kx",
    "outputId": "08bc2c21-90ba-406c-9f0e-0777700c23c9"
   },
   "outputs": [],
   "source": [
    "imgs = glob.glob('test_images/*.jpg')\n",
    "imgs.extend(glob.glob('test_images/*.png'))\n",
    "\n",
    "for i, img in enumerate(imgs):\n",
    "    cv_image = cv2.imread(img)\n",
    "    image = cv_image[...,::-1] #convert image to RGB which is our image format\n",
    "    image = cv2.resize(image, (160,160), interpolation = cv2.INTER_AREA)\n",
    "    arr = np.array([image], dtype=np.float64)\n",
    "    prediction = model.predict(arr)\n",
    "    prediction = tf.squeeze(prediction).numpy()\n",
    "    values = tf.nn.top_k(tf.constant(prediction), k=5).values\n",
    "    test = tf.nn.top_k(tf.constant(prediction), k=5).indices\n",
    "    plt.imshow(image)\n",
    "    plt.show()\n",
    "    print_class_name(test, values)"
   ]
  }
 ],
 "metadata": {
  "accelerator": "GPU",
  "anaconda-cloud": {},
  "colab": {
   "collapsed_sections": [],
   "machine_shape": "hm",
   "name": "Transfer_Learning.ipynb",
   "provenance": []
  },
  "kernelspec": {
   "display_name": "Python 3",
   "language": "python",
   "name": "python3"
  },
  "language_info": {
   "codemirror_mode": {
    "name": "ipython",
    "version": 3
   },
   "file_extension": ".py",
   "mimetype": "text/x-python",
   "name": "python",
   "nbconvert_exporter": "python",
   "pygments_lexer": "ipython3",
   "version": "3.6.8"
  }
 },
 "nbformat": 4,
 "nbformat_minor": 1
}
